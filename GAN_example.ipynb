{
 "cells": [
  {
   "cell_type": "code",
   "execution_count": 1,
   "metadata": {},
   "outputs": [
    {
     "name": "stdout",
     "output_type": "stream",
     "text": [
      "Collecting torch\n",
      "  Downloading torch-1.6.0-cp36-cp36m-manylinux1_x86_64.whl (748.8 MB)\n",
      "\u001b[K     |████████████████████████████████| 748.8 MB 12 kB/s s eta 0:00:01   |▊                               | 18.1 MB 1.7 MB/s eta 0:07:18     |████████                        | 186.7 MB 57.8 MB/s eta 0:00:10     |████████████████████▎           | 474.8 MB 40.0 MB/s eta 0:00:07     |█████████████████████████████▍  | 688.3 MB 57.3 MB/s eta 0:00:02\n",
      "\u001b[?25hCollecting torchvision\n",
      "  Downloading torchvision-0.7.0-cp36-cp36m-manylinux1_x86_64.whl (5.9 MB)\n",
      "\u001b[K     |████████████████████████████████| 5.9 MB 45.2 MB/s eta 0:00:01\n",
      "\u001b[?25hCollecting future\n",
      "  Downloading future-0.18.2.tar.gz (829 kB)\n",
      "\u001b[K     |████████████████████████████████| 829 kB 45.2 MB/s eta 0:00:01\n",
      "\u001b[?25hRequirement already satisfied: numpy in /usr/local/lib/python3.6/dist-packages (from torch) (1.18.2)\n",
      "Collecting pillow>=4.1.1\n",
      "  Downloading Pillow-7.2.0-cp36-cp36m-manylinux1_x86_64.whl (2.2 MB)\n",
      "\u001b[K     |████████████████████████████████| 2.2 MB 44.3 MB/s eta 0:00:01\n",
      "\u001b[?25hBuilding wheels for collected packages: future\n",
      "  Building wheel for future (setup.py) ... \u001b[?25ldone\n",
      "\u001b[?25h  Created wheel for future: filename=future-0.18.2-py3-none-any.whl size=493275 sha256=26096f1ed82c3825e34cb24b6b9967974963ce54cfa722e0b7ed920c0a0736d2\n",
      "  Stored in directory: /root/.cache/pip/wheels/6e/9c/ed/4499c9865ac1002697793e0ae05ba6be33553d098f3347fb94\n",
      "Successfully built future\n",
      "Installing collected packages: future, torch, pillow, torchvision\n",
      "Successfully installed future-0.18.2 pillow-7.2.0 torch-1.6.0 torchvision-0.7.0\n",
      "\u001b[33mWARNING: You are using pip version 20.0.2; however, version 20.2.3 is available.\n",
      "You should consider upgrading via the '/usr/bin/python3 -m pip install --upgrade pip' command.\u001b[0m\n"
     ]
    }
   ],
   "source": [
    "!pip install torch torchvision"
   ]
  },
  {
   "cell_type": "code",
   "execution_count": null,
   "metadata": {},
   "outputs": [],
   "source": [
    "import torch\n",
    "from torch import nn, optim, autograd\n",
    "import numpy as np\n",
    "import visdom\n",
    "import random\n",
    "from matplotlib import pyplot as plt"
   ]
  },
  {
   "cell_type": "code",
   "execution_count": 3,
   "metadata": {},
   "outputs": [
    {
     "name": "stdout",
     "output_type": "stream",
     "text": [
      "Collecting pip\n",
      "  Downloading pip-20.2.3-py2.py3-none-any.whl (1.5 MB)\n",
      "\u001b[K     |████████████████████████████████| 1.5 MB 2.6 MB/s eta 0:00:01\n",
      "\u001b[?25hInstalling collected packages: pip\n",
      "  Attempting uninstall: pip\n",
      "    Found existing installation: pip 20.0.2\n",
      "    Uninstalling pip-20.0.2:\n",
      "      Successfully uninstalled pip-20.0.2\n",
      "Successfully installed pip-20.2.3\n"
     ]
    }
   ],
   "source": [
    "!python -m pip install --upgrade pip"
   ]
  },
  {
   "cell_type": "code",
   "execution_count": 4,
   "metadata": {},
   "outputs": [
    {
     "name": "stdout",
     "output_type": "stream",
     "text": [
      "Collecting visdom\n",
      "  Downloading visdom-0.1.8.9.tar.gz (676 kB)\n",
      "\u001b[K     |████████████████████████████████| 676 kB 2.8 MB/s eta 0:00:01\n",
      "\u001b[?25hRequirement already satisfied: numpy>=1.8 in /usr/local/lib/python3.6/dist-packages (from visdom) (1.18.2)\n",
      "Requirement already satisfied: scipy in /usr/local/lib/python3.6/dist-packages (from visdom) (1.4.1)\n",
      "Requirement already satisfied: requests in /usr/local/lib/python3.6/dist-packages (from visdom) (2.23.0)\n",
      "Requirement already satisfied: tornado in /usr/local/lib/python3.6/dist-packages (from visdom) (5.1.1)\n",
      "Requirement already satisfied: pyzmq in /usr/local/lib/python3.6/dist-packages (from visdom) (19.0.1)\n",
      "Requirement already satisfied: six in /usr/local/lib/python3.6/dist-packages (from visdom) (1.14.0)\n",
      "Collecting jsonpatch\n",
      "  Downloading jsonpatch-1.26-py2.py3-none-any.whl (11 kB)\n",
      "Collecting torchfile\n",
      "  Downloading torchfile-0.1.0.tar.gz (5.2 kB)\n",
      "Collecting websocket-client\n",
      "  Downloading websocket_client-0.57.0-py2.py3-none-any.whl (200 kB)\n",
      "\u001b[K     |████████████████████████████████| 200 kB 3.1 MB/s eta 0:00:01\n",
      "\u001b[?25hRequirement already satisfied: pillow in /usr/local/lib/python3.6/dist-packages (from visdom) (7.2.0)\n",
      "Requirement already satisfied: chardet<4,>=3.0.2 in /usr/local/lib/python3.6/dist-packages (from requests->visdom) (3.0.4)\n",
      "Requirement already satisfied: certifi>=2017.4.17 in /usr/local/lib/python3.6/dist-packages (from requests->visdom) (2019.11.28)\n",
      "Requirement already satisfied: idna<3,>=2.5 in /usr/lib/python3/dist-packages (from requests->visdom) (2.6)\n",
      "Requirement already satisfied: urllib3!=1.25.0,!=1.25.1,<1.26,>=1.21.1 in /usr/local/lib/python3.6/dist-packages (from requests->visdom) (1.25.8)\n",
      "Collecting jsonpointer>=1.9\n",
      "  Downloading jsonpointer-2.0-py2.py3-none-any.whl (7.6 kB)\n",
      "Building wheels for collected packages: visdom, torchfile\n",
      "  Building wheel for visdom (setup.py) ... \u001b[?25ldone\n",
      "\u001b[?25h  Created wheel for visdom: filename=visdom-0.1.8.9-py3-none-any.whl size=668534 sha256=1ccc550c2ab9d565d65a76bd00c5c772a2d62bab554c4e7f3ab725b6056464ee\n",
      "  Stored in directory: /root/.cache/pip/wheels/2d/cd/fb/005445070865d4e45365b2946ee88085a7392370f152cf371c\n",
      "  Building wheel for torchfile (setup.py) ... \u001b[?25ldone\n",
      "\u001b[?25h  Created wheel for torchfile: filename=torchfile-0.1.0-py3-none-any.whl size=6623 sha256=83353dc45b982c077ff6c5979a220a788158f960b68570fad870e3cc80c8019e\n",
      "  Stored in directory: /root/.cache/pip/wheels/55/79/ec/084a3a2e348d72852cc0c13c559c923c13ca54db86e699b681\n",
      "Successfully built visdom torchfile\n",
      "Installing collected packages: jsonpointer, jsonpatch, torchfile, websocket-client, visdom\n",
      "Successfully installed jsonpatch-1.26 jsonpointer-2.0 torchfile-0.1.0 visdom-0.1.8.9 websocket-client-0.57.0\n"
     ]
    }
   ],
   "source": [
    "!python -m pip install visdom"
   ]
  },
  {
   "cell_type": "code",
   "execution_count": 38,
   "metadata": {},
   "outputs": [
    {
     "name": "stderr",
     "output_type": "stream",
     "text": [
      "Setting up a new session...\n",
      "Traceback (most recent call last):\n",
      "  File \"/usr/local/lib/python3.6/dist-packages/urllib3/connection.py\", line 157, in _new_conn\n",
      "    (self._dns_host, self.port), self.timeout, **extra_kw\n",
      "  File \"/usr/local/lib/python3.6/dist-packages/urllib3/util/connection.py\", line 84, in create_connection\n",
      "    raise err\n",
      "  File \"/usr/local/lib/python3.6/dist-packages/urllib3/util/connection.py\", line 74, in create_connection\n",
      "    sock.connect(sa)\n",
      "ConnectionRefusedError: [Errno 111] Connection refused\n",
      "\n",
      "During handling of the above exception, another exception occurred:\n",
      "\n",
      "Traceback (most recent call last):\n",
      "  File \"/usr/local/lib/python3.6/dist-packages/urllib3/connectionpool.py\", line 672, in urlopen\n",
      "    chunked=chunked,\n",
      "  File \"/usr/local/lib/python3.6/dist-packages/urllib3/connectionpool.py\", line 387, in _make_request\n",
      "    conn.request(method, url, **httplib_request_kw)\n",
      "  File \"/usr/lib/python3.6/http/client.py\", line 1254, in request\n",
      "    self._send_request(method, url, body, headers, encode_chunked)\n",
      "  File \"/usr/lib/python3.6/http/client.py\", line 1300, in _send_request\n",
      "    self.endheaders(body, encode_chunked=encode_chunked)\n",
      "  File \"/usr/lib/python3.6/http/client.py\", line 1249, in endheaders\n",
      "    self._send_output(message_body, encode_chunked=encode_chunked)\n",
      "  File \"/usr/lib/python3.6/http/client.py\", line 1036, in _send_output\n",
      "    self.send(msg)\n",
      "  File \"/usr/lib/python3.6/http/client.py\", line 974, in send\n",
      "    self.connect()\n",
      "  File \"/usr/local/lib/python3.6/dist-packages/urllib3/connection.py\", line 184, in connect\n",
      "    conn = self._new_conn()\n",
      "  File \"/usr/local/lib/python3.6/dist-packages/urllib3/connection.py\", line 169, in _new_conn\n",
      "    self, \"Failed to establish a new connection: %s\" % e\n",
      "urllib3.exceptions.NewConnectionError: <urllib3.connection.HTTPConnection object at 0x7f98c99ef710>: Failed to establish a new connection: [Errno 111] Connection refused\n",
      "\n",
      "During handling of the above exception, another exception occurred:\n",
      "\n",
      "Traceback (most recent call last):\n",
      "  File \"/usr/local/lib/python3.6/dist-packages/requests/adapters.py\", line 449, in send\n",
      "    timeout=timeout\n",
      "  File \"/usr/local/lib/python3.6/dist-packages/urllib3/connectionpool.py\", line 720, in urlopen\n",
      "    method, url, error=e, _pool=self, _stacktrace=sys.exc_info()[2]\n",
      "  File \"/usr/local/lib/python3.6/dist-packages/urllib3/util/retry.py\", line 436, in increment\n",
      "    raise MaxRetryError(_pool, url, error or ResponseError(cause))\n",
      "urllib3.exceptions.MaxRetryError: HTTPConnectionPool(host='localhost', port=8097): Max retries exceeded with url: /env/main (Caused by NewConnectionError('<urllib3.connection.HTTPConnection object at 0x7f98c99ef710>: Failed to establish a new connection: [Errno 111] Connection refused',))\n",
      "\n",
      "During handling of the above exception, another exception occurred:\n",
      "\n",
      "Traceback (most recent call last):\n",
      "  File \"/usr/local/lib/python3.6/dist-packages/visdom/__init__.py\", line 711, in _send\n",
      "    data=json.dumps(msg),\n",
      "  File \"/usr/local/lib/python3.6/dist-packages/visdom/__init__.py\", line 677, in _handle_post\n",
      "    r = self.session.post(url, data=data)\n",
      "  File \"/usr/local/lib/python3.6/dist-packages/requests/sessions.py\", line 578, in post\n",
      "    return self.request('POST', url, data=data, json=json, **kwargs)\n",
      "  File \"/usr/local/lib/python3.6/dist-packages/requests/sessions.py\", line 530, in request\n",
      "    resp = self.send(prep, **send_kwargs)\n",
      "  File \"/usr/local/lib/python3.6/dist-packages/requests/sessions.py\", line 643, in send\n",
      "    r = adapter.send(request, **kwargs)\n",
      "  File \"/usr/local/lib/python3.6/dist-packages/requests/adapters.py\", line 516, in send\n",
      "    raise ConnectionError(e, request=request)\n",
      "requests.exceptions.ConnectionError: HTTPConnectionPool(host='localhost', port=8097): Max retries exceeded with url: /env/main (Caused by NewConnectionError('<urllib3.connection.HTTPConnection object at 0x7f98c99ef710>: Failed to establish a new connection: [Errno 111] Connection refused',))\n",
      "[Errno 99] Cannot assign requested address\n"
     ]
    },
    {
     "name": "stdout",
     "output_type": "stream",
     "text": [
      "Exception in user code:\n",
      "------------------------------------------------------------\n"
     ]
    },
    {
     "name": "stderr",
     "output_type": "stream",
     "text": [
      "[Errno 99] Cannot assign requested address\n",
      "[Errno 99] Cannot assign requested address\n",
      "Visdom python client failed to establish socket to get messages from the server. This feature is optional and can be disabled by initializing Visdom with `use_incoming_socket=False`, which will prevent waiting for this request to timeout.\n",
      "[Errno 99] Cannot assign requested address\n",
      "[Errno 99] Cannot assign requested address\n",
      "[Errno 99] Cannot assign requested address\n",
      "[Errno 99] Cannot assign requested address\n",
      "[Errno 99] Cannot assign requested address\n",
      "[Errno 99] Cannot assign requested address\n",
      "[Errno 99] Cannot assign requested address\n",
      "[Errno 99] Cannot assign requested address\n",
      "[Errno 99] Cannot assign requested address\n",
      "[Errno 99] Cannot assign requested address\n",
      "[Errno 99] Cannot assign requested address\n",
      "[Errno 99] Cannot assign requested address\n",
      "[Errno 99] Cannot assign requested address\n",
      "[Errno 99] Cannot assign requested address\n",
      "[Errno 99] Cannot assign requested address\n",
      "[Errno 99] Cannot assign requested address\n",
      "[Errno 99] Cannot assign requested address\n",
      "[Errno 99] Cannot assign requested address\n",
      "[Errno 99] Cannot assign requested address\n",
      "[Errno 99] Cannot assign requested address\n",
      "[Errno 99] Cannot assign requested address\n",
      "[Errno 99] Cannot assign requested address\n",
      "[Errno 99] Cannot assign requested address\n",
      "[Errno 99] Cannot assign requested address\n",
      "[Errno 99] Cannot assign requested address\n",
      "[Errno 99] Cannot assign requested address\n",
      "[Errno 99] Cannot assign requested address\n",
      "[Errno 99] Cannot assign requested address\n",
      "[Errno 99] Cannot assign requested address\n",
      "[Errno 99] Cannot assign requested address\n",
      "[Errno 99] Cannot assign requested address\n",
      "[Errno 99] Cannot assign requested address\n",
      "[Errno 99] Cannot assign requested address\n",
      "[Errno 99] Cannot assign requested address\n",
      "[Errno 99] Cannot assign requested address\n",
      "[Errno 99] Cannot assign requested address\n",
      "[Errno 99] Cannot assign requested address\n"
     ]
    }
   ],
   "source": [
    "viz = visdom.Visdom()"
   ]
  },
  {
   "cell_type": "code",
   "execution_count": 6,
   "metadata": {},
   "outputs": [],
   "source": [
    "h_dim = 400\n",
    "batchsz = 512"
   ]
  },
  {
   "cell_type": "code",
   "execution_count": 8,
   "metadata": {},
   "outputs": [],
   "source": [
    "class Generator(nn.Module):\n",
    "    def __init__(self):\n",
    "        super(Generator, self).__init__()\n",
    "        self.net = nn.Sequential(\n",
    "            nn.Linear(2, h_dim),\n",
    "            nn.ReLU(True),\n",
    "            nn.Linear(h_dim, h_dim),\n",
    "            nn.ReLU(True),\n",
    "            nn.Linear(h_dim, h_dim),\n",
    "            nn.ReLU(True),\n",
    "            nn.Linear(h_dim, 2),\n",
    "        )\n",
    "    def forward(self, z):\n",
    "        output = self.net(z)\n",
    "        return output"
   ]
  },
  {
   "cell_type": "code",
   "execution_count": 19,
   "metadata": {},
   "outputs": [],
   "source": [
    "class Discriminator(nn.Module):\n",
    "\n",
    "    def __init__(self):\n",
    "        super(Discriminator, self).__init__()\n",
    "\n",
    "        self.net = nn.Sequential(\n",
    "            nn.Linear(2, h_dim),\n",
    "            nn.ReLU(True),\n",
    "            nn.Linear(h_dim, h_dim),\n",
    "            nn.ReLU(True),\n",
    "            nn.Linear(h_dim, h_dim),\n",
    "            nn.ReLU(True),\n",
    "            nn.Linear(h_dim, 1),\n",
    "            nn.Sigmoid()\n",
    "        )\n",
    "\n",
    "    def forward(self, x):\n",
    "        output = self.net(x)\n",
    "        return output.view(-1)"
   ]
  },
  {
   "cell_type": "code",
   "execution_count": 20,
   "metadata": {},
   "outputs": [],
   "source": [
    "def data_generator():\n",
    "    scale = 2.\n",
    "    centers = [\n",
    "        (1,0),\n",
    "        (-1,0),\n",
    "        (0,1),\n",
    "        (0,-1),\n",
    "        (1./np.sqrt(2), 1./np.sqrt(2)),\n",
    "        (1./np.sqrt(2), -1./np.sqrt(2)),\n",
    "        (-1./np.sqrt(2), 1./np.sqrt(2)),\n",
    "        (-1./np.sqrt(2), -1/np.sqrt(2))\n",
    "    ]\n",
    "    centers = [(scale*x, scale*y) for x, y in centers]\n",
    "    \n",
    "    while True:\n",
    "        dataset = []\n",
    "        for i in range(batchsz):\n",
    "            point = np.random.randn(2)*0.02\n",
    "            center = random.choice(centers)\n",
    "            point[0] += center[0]\n",
    "            point[1] += center[1]\n",
    "            dataset.append(point)\n",
    "        dataset = np.array(dataset).astype(np.float32)\n",
    "        dataset /= 1.414\n",
    "        yield dataset"
   ]
  },
  {
   "cell_type": "code",
   "execution_count": 35,
   "metadata": {},
   "outputs": [],
   "source": [
    "def generate_image(D, G, xr, epoch):\n",
    "    \"\"\"\n",
    "    Generates and saves a plot of the true distribution, the generator, and the\n",
    "    critic.\n",
    "    \"\"\"\n",
    "    N_POINTS = 128\n",
    "    RANGE = 3\n",
    "    plt.clf()\n",
    "\n",
    "    points = np.zeros((N_POINTS, N_POINTS, 2), dtype='float32')\n",
    "    points[:, :, 0] = np.linspace(-RANGE, RANGE, N_POINTS)[:, None]\n",
    "    points[:, :, 1] = np.linspace(-RANGE, RANGE, N_POINTS)[None, :]\n",
    "    points = points.reshape((-1, 2))\n",
    "    # (16384, 2)\n",
    "    # print('p:', points.shape)\n",
    "\n",
    "    # draw contour\n",
    "    with torch.no_grad():\n",
    "        points = torch.Tensor(points).cuda() # [16384, 2]\n",
    "        disc_map = D(points).cpu().numpy() # [16384]\n",
    "    x = y = np.linspace(-RANGE, RANGE, N_POINTS)\n",
    "    cs = plt.contour(x, y, disc_map.reshape((len(x), len(y))).transpose())\n",
    "    plt.clabel(cs, inline=1, fontsize=10)\n",
    "    # plt.colorbar()\n",
    "\n",
    "\n",
    "    # draw samples\n",
    "    with torch.no_grad():\n",
    "        z = torch.randn(batchsz, 2).cuda() # [b, 2]\n",
    "        samples = G(z).cpu().numpy() # [b, 2]\n",
    "    plt.scatter(xr[:, 0], xr[:, 1], c='orange', marker='.')\n",
    "    plt.scatter(samples[:, 0], samples[:, 1], c='green', marker='+')\n",
    "\n",
    "    viz.matplot(plt, win='contour', opts=dict(title='p(x):%d'%epoch))"
   ]
  },
  {
   "cell_type": "code",
   "execution_count": 36,
   "metadata": {},
   "outputs": [],
   "source": [
    "def main():\n",
    "    torch.manual_seed(23)\n",
    "    np.random.seed(23)\n",
    "    data_iter = data_generator()\n",
    "    x = next(data_iter)\n",
    "    G = Generator().cuda()\n",
    "    D = Discriminator().cuda()\n",
    "    #print(G)\n",
    "    #print(D)\n",
    "    optim_G = optim.Adam(G.parameters(),lr=5e-4, betas=(0.5, 0.9))\n",
    "    optim_D = optim.Adam(D.parameters(),lr=5e-4, betas=(0.5, 0.9))\n",
    "    viz.line([[0,0]], [0], win='loss', opts=dict(title='loss',\n",
    "                                                 legend=['D', 'G']))\n",
    "    for epoch in range(50000):\n",
    "        \n",
    "        for _ in range(5):\n",
    "            xr = next(data_iter)\n",
    "            xr = torch.from_numpy(xr).cuda()\n",
    "            predr = D(xr)\n",
    "            lossr = -predr.mean()\n",
    "            \n",
    "            z = torch.randn(batchsz, 2).cuda()\n",
    "            xf = G(z).detach()\n",
    "            predf = D(xf)\n",
    "            lossf = predf.mean()\n",
    "            \n",
    "            loss_D = lossr + lossf\n",
    "            optim_D.zero_grad()\n",
    "            loss_D.backward()\n",
    "            optim_D.step()\n",
    "        z = torch.randn(batchsz, 2).cuda()\n",
    "        xf = G(z)\n",
    "        predf = D(xf)\n",
    "        loss_G = -predf.mean()\n",
    "        optim_G.zero_grad()\n",
    "        loss_G.backward()\n",
    "        optim_G.step()\n",
    "        \n",
    "        if epoch %100 == 0:\n",
    "            viz.line([[loss_D.item(), loss_G.item()]], [epoch], win='loss', update='append')\n",
    "            generate_image(D, G, xr, epoch)\n",
    "            print(loss_D.item(), loss_G.item())"
   ]
  },
  {
   "cell_type": "code",
   "execution_count": 37,
   "metadata": {},
   "outputs": [
    {
     "ename": "NameError",
     "evalue": "name 'viz' is not defined",
     "output_type": "error",
     "traceback": [
      "\u001b[0;31m\u001b[0m",
      "\u001b[0;31mNameError\u001b[0mTraceback (most recent call last)",
      "\u001b[0;32m<ipython-input-37-263240bbee7e>\u001b[0m in \u001b[0;36m<module>\u001b[0;34m\u001b[0m\n\u001b[0;32m----> 1\u001b[0;31m \u001b[0mmain\u001b[0m\u001b[0;34m(\u001b[0m\u001b[0;34m)\u001b[0m\u001b[0;34m\u001b[0m\u001b[0;34m\u001b[0m\u001b[0m\n\u001b[0m",
      "\u001b[0;32m<ipython-input-36-911f93e68e2b>\u001b[0m in \u001b[0;36mmain\u001b[0;34m()\u001b[0m\n\u001b[1;32m     10\u001b[0m     \u001b[0moptim_G\u001b[0m \u001b[0;34m=\u001b[0m \u001b[0moptim\u001b[0m\u001b[0;34m.\u001b[0m\u001b[0mAdam\u001b[0m\u001b[0;34m(\u001b[0m\u001b[0mG\u001b[0m\u001b[0;34m.\u001b[0m\u001b[0mparameters\u001b[0m\u001b[0;34m(\u001b[0m\u001b[0;34m)\u001b[0m\u001b[0;34m,\u001b[0m\u001b[0mlr\u001b[0m\u001b[0;34m=\u001b[0m\u001b[0;36m5e-4\u001b[0m\u001b[0;34m,\u001b[0m \u001b[0mbetas\u001b[0m\u001b[0;34m=\u001b[0m\u001b[0;34m(\u001b[0m\u001b[0;36m0.5\u001b[0m\u001b[0;34m,\u001b[0m \u001b[0;36m0.9\u001b[0m\u001b[0;34m)\u001b[0m\u001b[0;34m)\u001b[0m\u001b[0;34m\u001b[0m\u001b[0;34m\u001b[0m\u001b[0m\n\u001b[1;32m     11\u001b[0m     \u001b[0moptim_D\u001b[0m \u001b[0;34m=\u001b[0m \u001b[0moptim\u001b[0m\u001b[0;34m.\u001b[0m\u001b[0mAdam\u001b[0m\u001b[0;34m(\u001b[0m\u001b[0mD\u001b[0m\u001b[0;34m.\u001b[0m\u001b[0mparameters\u001b[0m\u001b[0;34m(\u001b[0m\u001b[0;34m)\u001b[0m\u001b[0;34m,\u001b[0m\u001b[0mlr\u001b[0m\u001b[0;34m=\u001b[0m\u001b[0;36m5e-4\u001b[0m\u001b[0;34m,\u001b[0m \u001b[0mbetas\u001b[0m\u001b[0;34m=\u001b[0m\u001b[0;34m(\u001b[0m\u001b[0;36m0.5\u001b[0m\u001b[0;34m,\u001b[0m \u001b[0;36m0.9\u001b[0m\u001b[0;34m)\u001b[0m\u001b[0;34m)\u001b[0m\u001b[0;34m\u001b[0m\u001b[0;34m\u001b[0m\u001b[0m\n\u001b[0;32m---> 12\u001b[0;31m     viz.line([[0,0]], [0], win='loss', opts=dict(title='loss',\n\u001b[0m\u001b[1;32m     13\u001b[0m                                                  legend=['D', 'G']))\n\u001b[1;32m     14\u001b[0m     \u001b[0;32mfor\u001b[0m \u001b[0mepoch\u001b[0m \u001b[0;32min\u001b[0m \u001b[0mrange\u001b[0m\u001b[0;34m(\u001b[0m\u001b[0;36m50000\u001b[0m\u001b[0;34m)\u001b[0m\u001b[0;34m:\u001b[0m\u001b[0;34m\u001b[0m\u001b[0;34m\u001b[0m\u001b[0m\n",
      "\u001b[0;31mNameError\u001b[0m: name 'viz' is not defined"
     ]
    }
   ],
   "source": [
    "main()"
   ]
  },
  {
   "cell_type": "code",
   "execution_count": null,
   "metadata": {},
   "outputs": [],
   "source": []
  }
 ],
 "metadata": {
  "kernelspec": {
   "display_name": "Python 3",
   "language": "python",
   "name": "python3"
  },
  "language_info": {
   "codemirror_mode": {
    "name": "ipython",
    "version": 3
   },
   "file_extension": ".py",
   "mimetype": "text/x-python",
   "name": "python",
   "nbconvert_exporter": "python",
   "pygments_lexer": "ipython3",
   "version": "3.6.9"
  }
 },
 "nbformat": 4,
 "nbformat_minor": 4
}
